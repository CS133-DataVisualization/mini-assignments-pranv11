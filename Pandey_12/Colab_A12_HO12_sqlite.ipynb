{
  "cells": [
    {
      "cell_type": "markdown",
      "metadata": {
        "id": "ZgULxg_0AuZL"
      },
      "source": [
        "###**Q1**.  Use [Lucidchart](https://sjsu.edu/it/services/applications/lucidchart.php) to create an Entity Relationship Diagram (ERD) for the following tables representing a customer order tracking system:\n",
        "\n",
        "Tables and fields:\n",
        "1. product:\n",
        "    - product_id: INTEGER (Primary key)\n",
        "    - name: TEXT not null\n",
        "    - price: REAL\n",
        "\n",
        "\n",
        "2. customer:\n",
        "    - customer_id: INTEGER (Primary key)\n",
        "    - name: TEXT not null\n",
        "    - email: TEXT not null\n",
        "\n",
        "\n",
        "3. purchase_order:\n",
        "    - order_id: INTEGER (Primary key)\n",
        "    - customer_id: INTEGER (Foreign key)\n",
        "    - date: TEXT not null (\"YYYY-MM-DD\")\n",
        "\n",
        "\n",
        "4. order_item:\n",
        "    - order_id: INTEGER (Foreign key)\n",
        "    - product_id: INTEGER (Foreign key)\n",
        "    - quantity: INTEGER\n",
        "    \n",
        "\n",
        "\n",
        "Export the ERD as PDF and submit it in Canvas."
      ]
    },
    {
      "cell_type": "markdown",
      "metadata": {
        "id": "PZJtgMx7AuZO"
      },
      "source": [
        "###**Q2**. Create SQLite tables and load data\n",
        "1. Here are the csv files for the data for the four tables:\n",
        "   - product: https://raw.githubusercontent.com/csbfx/cs133/main/product.csv\n",
        "   - customer: https://raw.githubusercontent.com/csbfx/cs133/main/customer.csv\n",
        "   - order_item: https://raw.githubusercontent.com/csbfx/cs133/main/order_item.csv\n",
        "   - purchase_order: https://raw.githubusercontent.com/csbfx/cs133/main/purchase_order.csv\n",
        "2. In this notebook, create the database and save it in a file called `store.db`, and create the four tables as described above.\n",
        "3. Load the data in the csv files into the corresponding table.\n",
        "4. Commit so that the data loaded to the tables to officially written to the tables.\n",
        "5. Execute a query SELECT * from each table to make sure the data are properly loaded.\n",
        "6. Execute a query using SELECT statement that queries with JOIN tables to find the purchase date, the products and quantities that a particular customer has purchased."
      ]
    },
    {
      "cell_type": "code",
      "source": [
        "import sqlite3\n",
        "import pandas as pd\n",
        "from pathlib import Path\n",
        "from google.colab import drive\n",
        "drive.mount('/content/drive', force_remount=True)"
      ],
      "metadata": {
        "colab": {
          "base_uri": "https://localhost:8080/"
        },
        "id": "X0ta2R69cDbt",
        "outputId": "b1a46da5-6222-41dd-aade-ac0e6d78d6a9"
      },
      "execution_count": null,
      "outputs": [
        {
          "output_type": "stream",
          "name": "stdout",
          "text": [
            "Mounted at /content/drive\n"
          ]
        }
      ]
    },
    {
      "cell_type": "code",
      "execution_count": 1,
      "metadata": {
        "id": "w4xnppG8AuZP"
      },
      "outputs": [],
      "source": [
        "import sqlite3\n",
        "import pandas as pd\n",
        "\n",
        "# Create SQLite connection\n",
        "conn = sqlite3.connect('store.db')\n",
        "cursor = conn.cursor()\n",
        "\n",
        "# Create tables\n",
        "cursor.execute(\"\"\"\n",
        "CREATE TABLE product (\n",
        "    product_id INTEGER PRIMARY KEY,\n",
        "    name TEXT NOT NULL,\n",
        "    price REAL\n",
        ");\n",
        "\"\"\")\n",
        "cursor.execute(\"\"\"\n",
        "CREATE TABLE customer (\n",
        "    customer_id INTEGER PRIMARY KEY,\n",
        "    name TEXT NOT NULL,\n",
        "    email TEXT NOT NULL\n",
        ");\n",
        "\"\"\")\n",
        "cursor.execute(\"\"\"\n",
        "CREATE TABLE purchase_order (\n",
        "    order_id INTEGER PRIMARY KEY,\n",
        "    customer_id INTEGER NOT NULL,\n",
        "    date TEXT NOT NULL,\n",
        "    FOREIGN KEY (customer_id) REFERENCES customer(customer_id)\n",
        ");\n",
        "\"\"\")\n",
        "cursor.execute(\"\"\"\n",
        "CREATE TABLE order_item (\n",
        "    order_id INTEGER NOT NULL,\n",
        "    product_id INTEGER NOT NULL,\n",
        "    quantity INTEGER NOT NULL,\n",
        "    PRIMARY KEY (order_id, product_id),\n",
        "    FOREIGN KEY (order_id) REFERENCES purchase_order(order_id),\n",
        "    FOREIGN KEY (product_id) REFERENCES product(product_id)\n",
        ");\n",
        "\"\"\")\n",
        "conn.commit()"
      ]
    },
    {
      "cell_type": "code",
      "source": [
        "def load_csv_to_table(csv_url, table_name):\n",
        "    df = pd.read_csv(csv_url)\n",
        "    df.to_sql(table_name, conn, if_exists='append', index=False)\n",
        "\n",
        "load_csv_to_table('https://raw.githubusercontent.com/csbfx/cs133/main/product.csv', 'product')\n",
        "load_csv_to_table('https://raw.githubusercontent.com/csbfx/cs133/main/customer.csv', 'customer')\n",
        "load_csv_to_table('https://raw.githubusercontent.com/csbfx/cs133/main/purchase_order.csv', 'purchase_order')\n",
        "load_csv_to_table('https://raw.githubusercontent.com/csbfx/cs133/main/order_item.csv', 'order_item')\n",
        "conn.commit()"
      ],
      "metadata": {
        "id": "izUrWBEaRaSJ"
      },
      "execution_count": 2,
      "outputs": []
    },
    {
      "cell_type": "code",
      "source": [
        "# Verify tables\n",
        "for table in ['product', 'customer', 'purchase_order', 'order_item']:\n",
        "    print(f\"Data in {table}:\")\n",
        "    print(pd.read_sql_query(f\"SELECT * FROM {table};\", conn))\n",
        "    print(\"\\n\")\n"
      ],
      "metadata": {
        "colab": {
          "base_uri": "https://localhost:8080/"
        },
        "id": "VnZzW6biReA-",
        "outputId": "bd610ea4-eb1d-4c10-c00b-e790034dd8f5"
      },
      "execution_count": 3,
      "outputs": [
        {
          "output_type": "stream",
          "name": "stdout",
          "text": [
            "Data in product:\n",
            "   product_id     name  price\n",
            "0           0  bicycle  400.0\n",
            "1           1   helmet   45.0\n",
            "2           2   gloves   23.0\n",
            "3           3    chain   48.0\n",
            "\n",
            "\n",
            "Data in customer:\n",
            "   customer_id               name            email\n",
            "0            0          Wendy Lee    wlee@bike.com\n",
            "1            1        Jason Brown     jb@speed.com\n",
            "2            2       Harry Potter  hp@hogwarts.edu\n",
            "3            3  Godric Gryffindor  gg@hogwards.edu\n",
            "\n",
            "\n",
            "Data in purchase_order:\n",
            "   order_id  customer_id        date\n",
            "0         0            0  2020-10-19\n",
            "1         1            0  2020-10-20\n",
            "2         2            1  2020-10-20\n",
            "\n",
            "\n",
            "Data in order_item:\n",
            "   order_id  product_id  quantity\n",
            "0         0           0         1\n",
            "1         0           1         1\n",
            "2         1           2         2\n",
            "3         1           3         1\n",
            "\n",
            "\n"
          ]
        }
      ]
    },
    {
      "cell_type": "code",
      "source": [
        "# 2.5 Execute a query SELECT * from each table to make sure the data are properly loaded.\n",
        "# Your code here . . .\n",
        "# Verify data loaded into each table\n",
        "tables = ['product', 'customer', 'purchase_order', 'order_item']\n",
        "\n",
        "for table in tables:\n",
        "    print(f\"Data in {table} table:\")\n",
        "    data = pd.read_sql_query(f\"SELECT * FROM {table};\", conn)\n",
        "    print(data)\n",
        "    print(\"\\n\")\n",
        "\n"
      ],
      "metadata": {
        "id": "wPHFswfYBgan",
        "colab": {
          "base_uri": "https://localhost:8080/"
        },
        "outputId": "ef75d2a6-62e5-4f18-c424-51173743aa3c"
      },
      "execution_count": 5,
      "outputs": [
        {
          "output_type": "stream",
          "name": "stdout",
          "text": [
            "Data in product table:\n",
            "   product_id     name  price\n",
            "0           0  bicycle  400.0\n",
            "1           1   helmet   45.0\n",
            "2           2   gloves   23.0\n",
            "3           3    chain   48.0\n",
            "\n",
            "\n",
            "Data in customer table:\n",
            "   customer_id               name            email\n",
            "0            0          Wendy Lee    wlee@bike.com\n",
            "1            1        Jason Brown     jb@speed.com\n",
            "2            2       Harry Potter  hp@hogwarts.edu\n",
            "3            3  Godric Gryffindor  gg@hogwards.edu\n",
            "\n",
            "\n",
            "Data in purchase_order table:\n",
            "   order_id  customer_id        date\n",
            "0         0            0  2020-10-19\n",
            "1         1            0  2020-10-20\n",
            "2         2            1  2020-10-20\n",
            "\n",
            "\n",
            "Data in order_item table:\n",
            "   order_id  product_id  quantity\n",
            "0         0           0         1\n",
            "1         0           1         1\n",
            "2         1           2         2\n",
            "3         1           3         1\n",
            "\n",
            "\n"
          ]
        }
      ]
    },
    {
      "cell_type": "code",
      "source": [
        "conn.commit()"
      ],
      "metadata": {
        "id": "ySL5mGBMWb-v"
      },
      "execution_count": 11,
      "outputs": []
    },
    {
      "cell_type": "code",
      "source": [
        "# Query to find purchase date, product, and quantity for a specific customer\n",
        "cursor.execute(\n",
        "    \"\"\"\n",
        "    SELECT\n",
        "        customer.name AS customer_name,\n",
        "        purchase_order.date,\n",
        "        product.name AS product_name,\n",
        "        order_item.quantity\n",
        "    FROM\n",
        "        customer\n",
        "    JOIN\n",
        "        purchase_order ON customer.customer_id = purchase_order.customer_id\n",
        "    JOIN\n",
        "        order_item ON order_item.order_id = purchase_order.order_id\n",
        "    JOIN\n",
        "        product ON product.product_id = order_item.product_id\n",
        "    WHERE\n",
        "        customer.name = 'Wendy Lee'\n",
        "    \"\"\"\n",
        ")\n",
        "\n",
        "# Fetch and display results\n",
        "results = cursor.fetchall()\n",
        "print(results)\n"
      ],
      "metadata": {
        "colab": {
          "base_uri": "https://localhost:8080/"
        },
        "id": "htgVo4r6UGoU",
        "outputId": "0c6ffc1e-738a-4287-97af-71c11010bb8f"
      },
      "execution_count": 13,
      "outputs": [
        {
          "output_type": "stream",
          "name": "stdout",
          "text": [
            "[('Wendy Lee', '2020-10-19', 'helmet', 1), ('Wendy Lee', '2020-10-20', 'gloves', 2), ('Wendy Lee', '2020-10-20', 'chain', 1)]\n"
          ]
        }
      ]
    },
    {
      "cell_type": "code",
      "source": [
        "# Additional tasks\n",
        "# Appending a new row to one of the tables\n",
        "# Deleting row(s) with \"XXX\"\n",
        "\n",
        "# Append a new row to the `product` table\n",
        "new_product = (101, 'New Product', 19.99)\n",
        "cursor.execute(\"INSERT INTO product (product_id, name, price) VALUES (?, ?, ?);\", new_product)\n",
        "conn.commit()\n",
        "\n",
        "# Verify the new row\n",
        "print(\"Updated `product` table after appending:\")\n",
        "print(pd.read_sql_query(\"SELECT * FROM product;\", conn))\n"
      ],
      "metadata": {
        "id": "h17Hwcs5jvoA",
        "colab": {
          "base_uri": "https://localhost:8080/"
        },
        "outputId": "43c299ac-87a2-48fc-f440-4b5708fc228b"
      },
      "execution_count": 6,
      "outputs": [
        {
          "output_type": "stream",
          "name": "stdout",
          "text": [
            "Updated `product` table after appending:\n",
            "   product_id         name   price\n",
            "0           0      bicycle  400.00\n",
            "1           1       helmet   45.00\n",
            "2           2       gloves   23.00\n",
            "3           3        chain   48.00\n",
            "4         101  New Product   19.99\n"
          ]
        }
      ]
    },
    {
      "cell_type": "code",
      "source": [
        "# Delete rows with \"XXX\" in the `name` field\n",
        "cursor.execute(\"DELETE FROM product WHERE name = 'bicycle';\")\n",
        "conn.commit()\n",
        "\n",
        "# Verify deletion\n",
        "print(\"Updated `product` table after deleting rows with 'XXX':\")\n",
        "print(pd.read_sql_query(\"SELECT * FROM product;\", conn))\n"
      ],
      "metadata": {
        "colab": {
          "base_uri": "https://localhost:8080/"
        },
        "id": "Uruar807SSIi",
        "outputId": "2ebea704-1546-4c78-ebfa-681a670a69e7"
      },
      "execution_count": 8,
      "outputs": [
        {
          "output_type": "stream",
          "name": "stdout",
          "text": [
            "Updated `product` table after deleting rows with 'XXX':\n",
            "   product_id         name  price\n",
            "0           1       helmet  45.00\n",
            "1           2       gloves  23.00\n",
            "2           3        chain  48.00\n",
            "3         101  New Product  19.99\n"
          ]
        }
      ]
    }
  ],
  "metadata": {
    "kernelspec": {
      "display_name": "Python 3",
      "language": "python",
      "name": "python3"
    },
    "language_info": {
      "codemirror_mode": {
        "name": "ipython",
        "version": 3
      },
      "file_extension": ".py",
      "mimetype": "text/x-python",
      "name": "python",
      "nbconvert_exporter": "python",
      "pygments_lexer": "ipython3",
      "version": "3.7.6"
    },
    "colab": {
      "provenance": []
    }
  },
  "nbformat": 4,
  "nbformat_minor": 0
}